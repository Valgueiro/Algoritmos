{
  "nbformat": 4,
  "nbformat_minor": 0,
  "metadata": {
    "colab": {
      "name": "Lista 1 - Modelagem e Monitoramento de sistemas.ipynb",
      "provenance": [],
      "collapsed_sections": [],
      "authorship_tag": "ABX9TyNYRavoFYZAH9qvURX8XvqL",
      "include_colab_link": true
    },
    "kernelspec": {
      "name": "python3",
      "display_name": "Python 3"
    }
  },
  "cells": [
    {
      "cell_type": "markdown",
      "metadata": {
        "id": "view-in-github",
        "colab_type": "text"
      },
      "source": [
        "<a href=\"https://colab.research.google.com/github/Valgueiro/Algoritmos/blob/master/lista1/Lista_1_Modelagem_e_Monitoramento_de_sistemas.ipynb\" target=\"_parent\"><img src=\"https://colab.research.google.com/assets/colab-badge.svg\" alt=\"Open In Colab\"/></a>"
      ]
    },
    {
      "cell_type": "markdown",
      "metadata": {
        "id": "vScE5dAJe4yX"
      },
      "source": [
        "# Lista 1 - Modelagem e avaliação \n",
        "\n"
      ]
    },
    {
      "cell_type": "markdown",
      "metadata": {
        "id": "mVSmBqPcfZAF"
      },
      "source": [
        "## Questão 1\n",
        "\n",
        "\n",
        "\n"
      ]
    },
    {
      "cell_type": "markdown",
      "metadata": {
        "id": "mRh8u5OYfej7"
      },
      "source": [
        "1. Escreva um shell script que colete informações a cada 5 segundos sobre o seu\n",
        "navegador, coletando quantos % da CPU, ele está consumindo, qual CPU ele está\n",
        "executando, e quantos kbytes por segundo (kB wr/s) seu navegador está escrevendo\n",
        "no disco (dica: pidstat). Nesse mesmo script colete informações do estado geral da sua\n",
        "máquina (total da RAM que está livre, total da RAM usada, total da RAM reservada\n",
        "para buffer e para cache). Salve toda a coleta em um arquivo do tipo .csv.\n",
        "\n",
        "\n",
        "Bash utilizado:\n",
        "\n",
        "```bash\n",
        "#!/bin/bash\n",
        "\n",
        "tempo=0\n",
        "time_between_calls=5\n",
        "\n",
        "# pegar estatísticas por 10 minutos\n",
        "# 10*60 = 600 segundos => 600/5 = 120 ciclos\n",
        "cicles=120\n",
        "\n",
        "output_file='log-lista1.csv'\n",
        "\n",
        "# pegar o pid do primeiro processo do chorme\n",
        "pid=$(ps aux | grep chrome | awk '{print $2}' | head -n 1)\n",
        "\n",
        "# adicionar header\n",
        "echo \"time;cpu_per;cpu_core;read_per_s;ram_used;ram_free;ram_buff_cache\" > $output_file\n",
        "\n",
        "while [ $tempo -lt $cicles ]\n",
        "do  \n",
        "    # pegar informacoes\n",
        "    time=$(uptime | awk '{print $1}')\n",
        "    cpu_per=$(pidstat -p $pid | tail -n 1 | awk '{print $9}')\n",
        "    cpu_core=$(pidstat -p $pid | tail -n 1 | awk '{print $10}')\n",
        "    read_per_s=$(pidstat -p $pid -d | tail -n 1 | awk '{print $6}')\n",
        "    ram_used=$(free -m | awk '/Mem/{print $3}')\n",
        "    ram_free=$(free -m | awk '/Mem/{print $4}')\n",
        "    ram_buff_cache=$(free -m | awk '/Mem/{print $6}')\n",
        "\n",
        "    # colocar as informações no output\n",
        "    echo \"$time;$cpu_per;$cpu_core;$read_per_s;$ram_used;$ram_free;$ram_buff_cache\" >> $output_file\n",
        "\n",
        "    # delay\n",
        "    sleep $time_between_calls\n",
        "    tempo=$((tempo+1))\n",
        "done\n",
        "\n",
        "echo \"Done\"\n",
        "\n",
        "```"
      ]
    },
    {
      "cell_type": "code",
      "metadata": {
        "id": "QH-Uyqcagwan"
      },
      "source": [
        "import seaborn as sns\n",
        "import numpy as np\n",
        "import pandas as pd\n",
        "import matplotlib.pyplot as plt\n",
        "import requests\n",
        "\n",
        "# Apply the default theme\n",
        "sns.set_theme()"
      ],
      "execution_count": 49,
      "outputs": []
    },
    {
      "cell_type": "markdown",
      "metadata": {
        "id": "bvsQXNUddfRP"
      },
      "source": [
        "Pegando os dados do github obtidos durante a fase de testes\n",
        "\n",
        "Repositório: https://github.com/Valgueiro/modelagem/tree/main\n"
      ]
    },
    {
      "cell_type": "code",
      "metadata": {
        "id": "DAJRPGf6XhXK",
        "colab": {
          "base_uri": "https://localhost:8080/",
          "height": 198
        },
        "outputId": "0fff1aef-7e76-41a8-d798-c1056ecd4bd7"
      },
      "source": [
        "url = 'https://raw.githubusercontent.com/Valgueiro/modelagem/main/lista1/log-lista1.csv?raw=true'\n",
        "data = pd.read_csv(url, sep=';')\n",
        "data[\"time\"] = pd.to_datetime(data['time'])\n",
        "data.head()"
      ],
      "execution_count": 86,
      "outputs": [
        {
          "output_type": "execute_result",
          "data": {
            "text/html": [
              "<div>\n",
              "<style scoped>\n",
              "    .dataframe tbody tr th:only-of-type {\n",
              "        vertical-align: middle;\n",
              "    }\n",
              "\n",
              "    .dataframe tbody tr th {\n",
              "        vertical-align: top;\n",
              "    }\n",
              "\n",
              "    .dataframe thead th {\n",
              "        text-align: right;\n",
              "    }\n",
              "</style>\n",
              "<table border=\"1\" class=\"dataframe\">\n",
              "  <thead>\n",
              "    <tr style=\"text-align: right;\">\n",
              "      <th></th>\n",
              "      <th>time</th>\n",
              "      <th>cpu_per</th>\n",
              "      <th>cpu_core</th>\n",
              "      <th>read_per_s</th>\n",
              "      <th>ram_used</th>\n",
              "      <th>ram_free</th>\n",
              "      <th>ram_buff_cache</th>\n",
              "    </tr>\n",
              "  </thead>\n",
              "  <tbody>\n",
              "    <tr>\n",
              "      <th>0</th>\n",
              "      <td>2021-02-28 17:28:16</td>\n",
              "      <td>5.24</td>\n",
              "      <td>2</td>\n",
              "      <td>218.55</td>\n",
              "      <td>4051</td>\n",
              "      <td>8826</td>\n",
              "      <td>2973</td>\n",
              "    </tr>\n",
              "    <tr>\n",
              "      <th>1</th>\n",
              "      <td>2021-02-28 17:28:21</td>\n",
              "      <td>5.24</td>\n",
              "      <td>2</td>\n",
              "      <td>218.17</td>\n",
              "      <td>4062</td>\n",
              "      <td>8825</td>\n",
              "      <td>2963</td>\n",
              "    </tr>\n",
              "    <tr>\n",
              "      <th>2</th>\n",
              "      <td>2021-02-28 17:28:26</td>\n",
              "      <td>5.23</td>\n",
              "      <td>1</td>\n",
              "      <td>217.82</td>\n",
              "      <td>4057</td>\n",
              "      <td>8821</td>\n",
              "      <td>2972</td>\n",
              "    </tr>\n",
              "    <tr>\n",
              "      <th>3</th>\n",
              "      <td>2021-02-28 17:28:31</td>\n",
              "      <td>5.24</td>\n",
              "      <td>3</td>\n",
              "      <td>217.45</td>\n",
              "      <td>4113</td>\n",
              "      <td>8739</td>\n",
              "      <td>2998</td>\n",
              "    </tr>\n",
              "    <tr>\n",
              "      <th>4</th>\n",
              "      <td>2021-02-28 17:28:36</td>\n",
              "      <td>5.27</td>\n",
              "      <td>1</td>\n",
              "      <td>217.05</td>\n",
              "      <td>4115</td>\n",
              "      <td>8715</td>\n",
              "      <td>3021</td>\n",
              "    </tr>\n",
              "  </tbody>\n",
              "</table>\n",
              "</div>"
            ],
            "text/plain": [
              "                 time  cpu_per  cpu_core  ...  ram_used  ram_free  ram_buff_cache\n",
              "0 2021-02-28 17:28:16     5.24         2  ...      4051      8826            2973\n",
              "1 2021-02-28 17:28:21     5.24         2  ...      4062      8825            2963\n",
              "2 2021-02-28 17:28:26     5.23         1  ...      4057      8821            2972\n",
              "3 2021-02-28 17:28:31     5.24         3  ...      4113      8739            2998\n",
              "4 2021-02-28 17:28:36     5.27         1  ...      4115      8715            3021\n",
              "\n",
              "[5 rows x 7 columns]"
            ]
          },
          "metadata": {
            "tags": []
          },
          "execution_count": 86
        }
      ]
    },
    {
      "cell_type": "markdown",
      "metadata": {
        "id": "JZvh9ncbtfkI"
      },
      "source": [
        "### CPU"
      ]
    },
    {
      "cell_type": "markdown",
      "metadata": {
        "id": "d305ujVPqN5w"
      },
      "source": [
        "Analisando o comportamento da utilização de cada em cada um dos cores do processador"
      ]
    },
    {
      "cell_type": "code",
      "metadata": {
        "colab": {
          "base_uri": "https://localhost:8080/",
          "height": 212
        },
        "id": "b08x6_q4qNeT",
        "outputId": "91db7c76-749a-4492-b552-9b102347c780"
      },
      "source": [
        "sns.relplot(\n",
        "    data=data,\n",
        "    x=data.index, y=\"cpu_per\", col=\"cpu_core\",  kind=\"line\",\n",
        "    dashes=False, markers=True,\n",
        ")"
      ],
      "execution_count": 131,
      "outputs": [
        {
          "output_type": "execute_result",
          "data": {
            "text/plain": [
              "<seaborn.axisgrid.FacetGrid at 0x7f59704436d0>"
            ]
          },
          "metadata": {
            "tags": []
          },
          "execution_count": 131
        },
        {
          "output_type": "display_data",
          "data": {
            "image/png": "[encoded data removed]",
            "text/plain": [
              "<Figure size 1440x360 with 4 Axes>"
            ]
          },
          "metadata": {
            "tags": []
          }
        }
      ]
    },
    {
      "cell_type": "markdown",
      "metadata": {
        "id": "rRsHhKolqY-H"
      },
      "source": [
        "Como podemos ver a utilização é bem parecida entre cada core. O processo estava constantemente mudando de core durante sua utilização."
      ]
    },
    {
      "cell_type": "code",
      "metadata": {
        "colab": {
          "base_uri": "https://localhost:8080/"
        },
        "id": "RuC0Q5FfunTK",
        "outputId": "f1411f26-b586-4025-ee76-925b66724404"
      },
      "source": [
        "# Moda\n",
        "data[\"cpu_per\"].mode()[0]"
      ],
      "execution_count": 124,
      "outputs": [
        {
          "output_type": "execute_result",
          "data": {
            "text/plain": [
              "5.86"
            ]
          },
          "metadata": {
            "tags": []
          },
          "execution_count": 124
        }
      ]
    },
    {
      "cell_type": "code",
      "metadata": {
        "colab": {
          "base_uri": "https://localhost:8080/"
        },
        "id": "jvx8DtMsunIE",
        "outputId": "27b5cf34-d2ab-48d0-bc23-b1031196350a"
      },
      "source": [
        "# Mediana\n",
        "data[\"cpu_per\"].median()"
      ],
      "execution_count": 120,
      "outputs": [
        {
          "output_type": "execute_result",
          "data": {
            "text/plain": [
              "5.87"
            ]
          },
          "metadata": {
            "tags": []
          },
          "execution_count": 120
        }
      ]
    },
    {
      "cell_type": "code",
      "metadata": {
        "colab": {
          "base_uri": "https://localhost:8080/"
        },
        "id": "CEhV2aZyuOGX",
        "outputId": "3243c587-0ad7-4bd5-eea0-ceb4b86fb27b"
      },
      "source": [
        "# Média\n",
        "data[\"cpu_per\"].mean()"
      ],
      "execution_count": 118,
      "outputs": [
        {
          "output_type": "execute_result",
          "data": {
            "text/plain": [
              "5.838833333333333"
            ]
          },
          "metadata": {
            "tags": []
          },
          "execution_count": 118
        }
      ]
    },
    {
      "cell_type": "code",
      "metadata": {
        "colab": {
          "base_uri": "https://localhost:8080/"
        },
        "id": "5C__MkAquqL_",
        "outputId": "6d10a8ee-2e56-473a-dea5-96b1aebafb99"
      },
      "source": [
        "# Desvio padrão\n",
        "data[\"cpu_per\"].std()"
      ],
      "execution_count": 122,
      "outputs": [
        {
          "output_type": "execute_result",
          "data": {
            "text/plain": [
              "0.2384162849512844"
            ]
          },
          "metadata": {
            "tags": []
          },
          "execution_count": 122
        }
      ]
    },
    {
      "cell_type": "code",
      "metadata": {
        "colab": {
          "base_uri": "https://localhost:8080/",
          "height": 35
        },
        "id": "QPhe2XhyvKD7",
        "outputId": "c18cce10-23ee-4798-e0b0-c79beced9cd5"
      },
      "source": [
        "# Coeficiente de variação\n",
        "str((data[\"cpu_per\"].std()/data[\"cpu_per\"].median()) * 100) + ' %'"
      ],
      "execution_count": 127,
      "outputs": [
        {
          "output_type": "execute_result",
          "data": {
            "application/vnd.google.colaboratory.intrinsic+json": {
              "type": "string"
            },
            "text/plain": [
              "'4.061606217228014 %'"
            ]
          },
          "metadata": {
            "tags": []
          },
          "execution_count": 127
        }
      ]
    },
    {
      "cell_type": "markdown",
      "metadata": {
        "id": "XnphkfcAu-5y"
      },
      "source": [
        "Como podemos ver com essas medidas de dispersão e tendência, não houve uma mudança muito grande no uso total da aplicação. Acredito que podemos levar como feedback para o google que o chrome está mantendo uma média de uso de cpu em seu software. "
      ]
    },
    {
      "cell_type": "markdown",
      "metadata": {
        "id": "S2tJcnzItjff"
      },
      "source": [
        "### Disco"
      ]
    },
    {
      "cell_type": "code",
      "metadata": {
        "colab": {
          "base_uri": "https://localhost:8080/",
          "height": 383
        },
        "id": "7PNSZ8mqtRqR",
        "outputId": "0b8ad3f5-28e4-461b-a994-fd6a888d3a62"
      },
      "source": [
        "sns.relplot(\n",
        "    data=data,\n",
        "    x=data.index, y=\"read_per_s\",  kind=\"line\",\n",
        "    dashes=False, markers=True,\n",
        ")"
      ],
      "execution_count": 111,
      "outputs": [
        {
          "output_type": "execute_result",
          "data": {
            "text/plain": [
              "<seaborn.axisgrid.FacetGrid at 0x7f59707537d0>"
            ]
          },
          "metadata": {
            "tags": []
          },
          "execution_count": 111
        },
        {
          "output_type": "display_data",
          "data": {
            "image/png": "[encoded data removed]",
            "text/plain": [
              "<Figure size 360x360 with 1 Axes>"
            ]
          },
          "metadata": {
            "tags": []
          }
        }
      ]
    },
    {
      "cell_type": "markdown",
      "metadata": {
        "id": "_y-ufmP6tmp7"
      },
      "source": [
        "### Ram"
      ]
    },
    {
      "cell_type": "code",
      "metadata": {
        "colab": {
          "base_uri": "https://localhost:8080/",
          "height": 400
        },
        "id": "y3EEaWNOgB_1",
        "outputId": "4887a0f8-fdf6-4077-9f90-f77fd7fe64b5"
      },
      "source": [
        "data2 = data[[\"ram_used\",\"ram_free\", \"ram_buff_cache\"]].reset_index().melt('index', var_name='cols',  value_name='values')\n",
        "sns.relplot(\n",
        "    data=data2,\n",
        "    x=\"index\", y=\"values\", hue='cols',\n",
        "    kind=\"line\",\n",
        ")"
      ],
      "execution_count": 110,
      "outputs": [
        {
          "output_type": "execute_result",
          "data": {
            "text/plain": [
              "<seaborn.axisgrid.FacetGrid at 0x7f59707eb550>"
            ]
          },
          "metadata": {
            "tags": []
          },
          "execution_count": 110
        },
        {
          "output_type": "display_data",
          "data": {
            "image/png": "[encoded data removed]",
            "text/plain": [
              "<Figure size 487.475x360 with 1 Axes>"
            ]
          },
          "metadata": {
            "tags": []
          }
        }
      ]
    }
  ]
}