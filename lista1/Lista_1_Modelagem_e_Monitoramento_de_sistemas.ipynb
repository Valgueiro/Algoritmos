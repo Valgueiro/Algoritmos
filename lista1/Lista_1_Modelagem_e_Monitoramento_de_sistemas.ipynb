{
  "nbformat": 4,
  "nbformat_minor": 0,
  "metadata": {
    "colab": {
      "name": "Lista 1 - Modelagem e Monitoramento de sistemas.ipynb",
      "provenance": [],
      "collapsed_sections": [],
      "authorship_tag": "ABX9TyMI8EyTi3ZUpdY5UgG6BmlD",
      "include_colab_link": true
    },
    "kernelspec": {
      "name": "python3",
      "display_name": "Python 3"
    }
  },
  "cells": [
    {
      "cell_type": "markdown",
      "metadata": {
        "id": "view-in-github",
        "colab_type": "text"
      },
      "source": [
        "<a href=\"https://colab.research.google.com/github/Valgueiro/Algoritmos/blob/master/lista1/Lista_1_Modelagem_e_Monitoramento_de_sistemas.ipynb\" target=\"_parent\"><img src=\"https://colab.research.google.com/assets/colab-badge.svg\" alt=\"Open In Colab\"/></a>"
      ]
    },
    {
      "cell_type": "markdown",
      "metadata": {
        "id": "bvsQXNUddfRP"
      },
      "source": [
        "Pegando os dados do github obtidos durante a fase de testes"
      ]
    },
    {
      "cell_type": "code",
      "metadata": {
        "id": "DAJRPGf6XhXK",
        "colab": {
          "base_uri": "https://localhost:8080/",
          "height": 235
        },
        "outputId": "0a3d727f-0dcf-4984-f8dd-acca32e4e0b9"
      },
      "source": [
        "import requests\n",
        "import pandas as pd\n",
        "\n",
        "url = 'https://raw.githubusercontent.com/Valgueiro/modelagem/main/lista1/log-lista1.csv?raw=true'\n",
        "data = pd.read_csv(url, index_col=0, sep=';')\n",
        "data.head()"
      ],
      "execution_count": 6,
      "outputs": [
        {
          "output_type": "execute_result",
          "data": {
            "text/html": [
              "<div>\n",
              "<style scoped>\n",
              "    .dataframe tbody tr th:only-of-type {\n",
              "        vertical-align: middle;\n",
              "    }\n",
              "\n",
              "    .dataframe tbody tr th {\n",
              "        vertical-align: top;\n",
              "    }\n",
              "\n",
              "    .dataframe thead th {\n",
              "        text-align: right;\n",
              "    }\n",
              "</style>\n",
              "<table border=\"1\" class=\"dataframe\">\n",
              "  <thead>\n",
              "    <tr style=\"text-align: right;\">\n",
              "      <th></th>\n",
              "      <th>cpu_per</th>\n",
              "      <th>cpu_core</th>\n",
              "      <th>read_per_s</th>\n",
              "      <th>ram_used</th>\n",
              "      <th>ram_free</th>\n",
              "      <th>ram_buff_cache</th>\n",
              "    </tr>\n",
              "    <tr>\n",
              "      <th>time</th>\n",
              "      <th></th>\n",
              "      <th></th>\n",
              "      <th></th>\n",
              "      <th></th>\n",
              "      <th></th>\n",
              "      <th></th>\n",
              "    </tr>\n",
              "  </thead>\n",
              "  <tbody>\n",
              "    <tr>\n",
              "      <th>17:28:16</th>\n",
              "      <td>5.24</td>\n",
              "      <td>2</td>\n",
              "      <td>218.55</td>\n",
              "      <td>4051</td>\n",
              "      <td>8826</td>\n",
              "      <td>2973</td>\n",
              "    </tr>\n",
              "    <tr>\n",
              "      <th>17:28:21</th>\n",
              "      <td>5.24</td>\n",
              "      <td>2</td>\n",
              "      <td>218.17</td>\n",
              "      <td>4062</td>\n",
              "      <td>8825</td>\n",
              "      <td>2963</td>\n",
              "    </tr>\n",
              "    <tr>\n",
              "      <th>17:28:26</th>\n",
              "      <td>5.23</td>\n",
              "      <td>1</td>\n",
              "      <td>217.82</td>\n",
              "      <td>4057</td>\n",
              "      <td>8821</td>\n",
              "      <td>2972</td>\n",
              "    </tr>\n",
              "    <tr>\n",
              "      <th>17:28:31</th>\n",
              "      <td>5.24</td>\n",
              "      <td>3</td>\n",
              "      <td>217.45</td>\n",
              "      <td>4113</td>\n",
              "      <td>8739</td>\n",
              "      <td>2998</td>\n",
              "    </tr>\n",
              "    <tr>\n",
              "      <th>17:28:36</th>\n",
              "      <td>5.27</td>\n",
              "      <td>1</td>\n",
              "      <td>217.05</td>\n",
              "      <td>4115</td>\n",
              "      <td>8715</td>\n",
              "      <td>3021</td>\n",
              "    </tr>\n",
              "  </tbody>\n",
              "</table>\n",
              "</div>"
            ],
            "text/plain": [
              "          cpu_per  cpu_core  read_per_s  ram_used  ram_free  ram_buff_cache\n",
              "time                                                                       \n",
              "17:28:16     5.24         2      218.55      4051      8826            2973\n",
              "17:28:21     5.24         2      218.17      4062      8825            2963\n",
              "17:28:26     5.23         1      217.82      4057      8821            2972\n",
              "17:28:31     5.24         3      217.45      4113      8739            2998\n",
              "17:28:36     5.27         1      217.05      4115      8715            3021"
            ]
          },
          "metadata": {
            "tags": []
          },
          "execution_count": 6
        }
      ]
    }
  ]
}