{
  "nbformat": 4,
  "nbformat_minor": 0,
  "metadata": {
    "colab": {
      "name": "Lista 1 - Modelagem e Monitoramento de sistemas.ipynb",
      "provenance": [],
      "collapsed_sections": [],
      "authorship_tag": "ABX9TyMxQNBCUHqpFSUmjABGj6Op",
      "include_colab_link": true
    },
    "kernelspec": {
      "name": "python3",
      "display_name": "Python 3"
    }
  },
  "cells": [
    {
      "cell_type": "markdown",
      "metadata": {
        "id": "view-in-github",
        "colab_type": "text"
      },
      "source": [
        "<a href=\"https://colab.research.google.com/github/Valgueiro/Algoritmos/blob/master/lista1/Lista_1_Modelagem_e_Monitoramento_de_sistemas.ipynb\" target=\"_parent\"><img src=\"https://colab.research.google.com/assets/colab-badge.svg\" alt=\"Open In Colab\"/></a>"
      ]
    },
    {
      "cell_type": "markdown",
      "metadata": {
        "id": "vScE5dAJe4yX"
      },
      "source": [
        "# Lista 1 - Modelagem e avaliação \n",
        "\n"
      ]
    },
    {
      "cell_type": "markdown",
      "metadata": {
        "id": "mVSmBqPcfZAF"
      },
      "source": [
        "## Questão 1\n",
        "\n",
        "\n",
        "\n"
      ]
    },
    {
      "cell_type": "markdown",
      "metadata": {
        "id": "mRh8u5OYfej7"
      },
      "source": [
        "1. Escreva um shell script que colete informações a cada 5 segundos sobre o seu\n",
        "navegador, coletando quantos % da CPU, ele está consumindo, qual CPU ele está\n",
        "executando, e quantos kbytes por segundo (kB wr/s) seu navegador está escrevendo\n",
        "no disco (dica: pidstat). Nesse mesmo script colete informações do estado geral da sua\n",
        "máquina (total da RAM que está livre, total da RAM usada, total da RAM reservada\n",
        "para buffer e para cache). Salve toda a coleta em um arquivo do tipo .csv.\n",
        "\n",
        "\n",
        "Bash utilizado:\n",
        "\n",
        "```bash\n",
        "#!/bin/bash\n",
        "\n",
        "tempo=0\n",
        "time_between_calls=5\n",
        "\n",
        "# pegar estatísticas por 10 minutos\n",
        "# 10*60 = 600 segundos => 600/5 = 120 ciclos\n",
        "cicles=120\n",
        "\n",
        "output_file='log-lista1.csv'\n",
        "\n",
        "# pegar o pid do primeiro processo do chorme\n",
        "pid=$(ps aux | grep chrome | awk '{print $2}' | head -n 1)\n",
        "\n",
        "# adicionar header\n",
        "echo \"time;cpu_per;cpu_core;read_per_s;ram_used;ram_free;ram_buff_cache\" > $output_file\n",
        "\n",
        "while [ $tempo -lt $cicles ]\n",
        "do  \n",
        "    # pegar informacoes\n",
        "    time=$(uptime | awk '{print $1}')\n",
        "    cpu_per=$(pidstat -p $pid | tail -n 1 | awk '{print $9}')\n",
        "    cpu_core=$(pidstat -p $pid | tail -n 1 | awk '{print $10}')\n",
        "    read_per_s=$(pidstat -p $pid -d | tail -n 1 | awk '{print $6}')\n",
        "    ram_used=$(free -m | awk '/Mem/{print $3}')\n",
        "    ram_free=$(free -m | awk '/Mem/{print $4}')\n",
        "    ram_buff_cache=$(free -m | awk '/Mem/{print $6}')\n",
        "\n",
        "    # colocar as informações no output\n",
        "    echo \"$time;$cpu_per;$cpu_core;$read_per_s;$ram_used;$ram_free;$ram_buff_cache\" >> $output_file\n",
        "\n",
        "    # delay\n",
        "    sleep $time_between_calls\n",
        "    tempo=$((tempo+1))\n",
        "done\n",
        "\n",
        "echo \"Done\"\n",
        "\n",
        "```"
      ]
    },
    {
      "cell_type": "code",
      "metadata": {
        "id": "QH-Uyqcagwan"
      },
      "source": [
        "import seaborn as sns\n",
        "import numpy as np\n",
        "import pandas as pd\n",
        "import matplotlib.pyplot as plt\n",
        "import requests\n",
        "\n",
        "# Apply the default theme\n",
        "sns.set_theme()"
      ],
      "execution_count": 49,
      "outputs": []
    },
    {
      "cell_type": "markdown",
      "metadata": {
        "id": "bvsQXNUddfRP"
      },
      "source": [
        "Pegando os dados do github obtidos durante a fase de testes\n",
        "\n",
        "Repositório: https://github.com/Valgueiro/modelagem/tree/main\n"
      ]
    },
    {
      "cell_type": "code",
      "metadata": {
        "id": "DAJRPGf6XhXK",
        "colab": {
          "base_uri": "https://localhost:8080/",
          "height": 198
        },
        "outputId": "0fff1aef-7e76-41a8-d798-c1056ecd4bd7"
      },
      "source": [
        "url = 'https://raw.githubusercontent.com/Valgueiro/modelagem/main/lista1/log-lista1.csv?raw=true'\n",
        "data = pd.read_csv(url, sep=';')\n",
        "data[\"time\"] = pd.to_datetime(data['time'])\n",
        "data.head()"
      ],
      "execution_count": 86,
      "outputs": [
        {
          "output_type": "execute_result",
          "data": {
            "text/html": [
              "<div>\n",
              "<style scoped>\n",
              "    .dataframe tbody tr th:only-of-type {\n",
              "        vertical-align: middle;\n",
              "    }\n",
              "\n",
              "    .dataframe tbody tr th {\n",
              "        vertical-align: top;\n",
              "    }\n",
              "\n",
              "    .dataframe thead th {\n",
              "        text-align: right;\n",
              "    }\n",
              "</style>\n",
              "<table border=\"1\" class=\"dataframe\">\n",
              "  <thead>\n",
              "    <tr style=\"text-align: right;\">\n",
              "      <th></th>\n",
              "      <th>time</th>\n",
              "      <th>cpu_per</th>\n",
              "      <th>cpu_core</th>\n",
              "      <th>read_per_s</th>\n",
              "      <th>ram_used</th>\n",
              "      <th>ram_free</th>\n",
              "      <th>ram_buff_cache</th>\n",
              "    </tr>\n",
              "  </thead>\n",
              "  <tbody>\n",
              "    <tr>\n",
              "      <th>0</th>\n",
              "      <td>2021-02-28 17:28:16</td>\n",
              "      <td>5.24</td>\n",
              "      <td>2</td>\n",
              "      <td>218.55</td>\n",
              "      <td>4051</td>\n",
              "      <td>8826</td>\n",
              "      <td>2973</td>\n",
              "    </tr>\n",
              "    <tr>\n",
              "      <th>1</th>\n",
              "      <td>2021-02-28 17:28:21</td>\n",
              "      <td>5.24</td>\n",
              "      <td>2</td>\n",
              "      <td>218.17</td>\n",
              "      <td>4062</td>\n",
              "      <td>8825</td>\n",
              "      <td>2963</td>\n",
              "    </tr>\n",
              "    <tr>\n",
              "      <th>2</th>\n",
              "      <td>2021-02-28 17:28:26</td>\n",
              "      <td>5.23</td>\n",
              "      <td>1</td>\n",
              "      <td>217.82</td>\n",
              "      <td>4057</td>\n",
              "      <td>8821</td>\n",
              "      <td>2972</td>\n",
              "    </tr>\n",
              "    <tr>\n",
              "      <th>3</th>\n",
              "      <td>2021-02-28 17:28:31</td>\n",
              "      <td>5.24</td>\n",
              "      <td>3</td>\n",
              "      <td>217.45</td>\n",
              "      <td>4113</td>\n",
              "      <td>8739</td>\n",
              "      <td>2998</td>\n",
              "    </tr>\n",
              "    <tr>\n",
              "      <th>4</th>\n",
              "      <td>2021-02-28 17:28:36</td>\n",
              "      <td>5.27</td>\n",
              "      <td>1</td>\n",
              "      <td>217.05</td>\n",
              "      <td>4115</td>\n",
              "      <td>8715</td>\n",
              "      <td>3021</td>\n",
              "    </tr>\n",
              "  </tbody>\n",
              "</table>\n",
              "</div>"
            ],
            "text/plain": [
              "                 time  cpu_per  cpu_core  ...  ram_used  ram_free  ram_buff_cache\n",
              "0 2021-02-28 17:28:16     5.24         2  ...      4051      8826            2973\n",
              "1 2021-02-28 17:28:21     5.24         2  ...      4062      8825            2963\n",
              "2 2021-02-28 17:28:26     5.23         1  ...      4057      8821            2972\n",
              "3 2021-02-28 17:28:31     5.24         3  ...      4113      8739            2998\n",
              "4 2021-02-28 17:28:36     5.27         1  ...      4115      8715            3021\n",
              "\n",
              "[5 rows x 7 columns]"
            ]
          },
          "metadata": {
            "tags": []
          },
          "execution_count": 86
        }
      ]
    },
    {
      "cell_type": "markdown",
      "metadata": {
        "id": "d305ujVPqN5w"
      },
      "source": [
        "Analisando o comportamento da utilização de cada em cada um dos cores do processador"
      ]
    },
    {
      "cell_type": "code",
      "metadata": {
        "colab": {
          "base_uri": "https://localhost:8080/",
          "height": 383
        },
        "id": "b08x6_q4qNeT",
        "outputId": "d8e28a9d-cdd0-46e0-9204-6f16e29ba604"
      },
      "source": [
        "sns.relplot(\n",
        "    data=data,\n",
        "    x=data.index, y=\"cpu_per\", hue=\"cpu_core\",  kind=\"line\",\n",
        "    dashes=False, markers=True,\n",
        ")"
      ],
      "execution_count": 85,
      "outputs": [
        {
          "output_type": "execute_result",
          "data": {
            "text/plain": [
              "<seaborn.axisgrid.FacetGrid at 0x7f59714eb790>"
            ]
          },
          "metadata": {
            "tags": []
          },
          "execution_count": 85
        },
        {
          "output_type": "display_data",
          "data": {
            "image/png": "[encoded data removed]",
            "text/plain": [
              "<Figure size 422.425x360 with 1 Axes>"
            ]
          },
          "metadata": {
            "tags": []
          }
        }
      ]
    },
    {
      "cell_type": "markdown",
      "metadata": {
        "id": "rRsHhKolqY-H"
      },
      "source": [
        "Como podemos ver a utilização é bem parecida entre cada core. O processo estava constantemente mudando de core durante sua utilização."
      ]
    },
    {
      "cell_type": "code",
      "metadata": {
        "colab": {
          "base_uri": "https://localhost:8080/",
          "height": 198
        },
        "id": "U4qn1BTarUFq",
        "outputId": "fa733ae0-5e4f-445c-bc2c-db6cf262b04f"
      },
      "source": [
        "data2 = data[[\"ram_used\",\"ram_free\", \"ram_buff_cache\"]].reset_index().melt('index', var_name='cols',  value_name='values')\n",
        "data2.head()"
      ],
      "execution_count": 107,
      "outputs": [
        {
          "output_type": "execute_result",
          "data": {
            "text/html": [
              "<div>\n",
              "<style scoped>\n",
              "    .dataframe tbody tr th:only-of-type {\n",
              "        vertical-align: middle;\n",
              "    }\n",
              "\n",
              "    .dataframe tbody tr th {\n",
              "        vertical-align: top;\n",
              "    }\n",
              "\n",
              "    .dataframe thead th {\n",
              "        text-align: right;\n",
              "    }\n",
              "</style>\n",
              "<table border=\"1\" class=\"dataframe\">\n",
              "  <thead>\n",
              "    <tr style=\"text-align: right;\">\n",
              "      <th></th>\n",
              "      <th>index</th>\n",
              "      <th>cols</th>\n",
              "      <th>values</th>\n",
              "    </tr>\n",
              "  </thead>\n",
              "  <tbody>\n",
              "    <tr>\n",
              "      <th>0</th>\n",
              "      <td>0</td>\n",
              "      <td>ram_used</td>\n",
              "      <td>4051</td>\n",
              "    </tr>\n",
              "    <tr>\n",
              "      <th>1</th>\n",
              "      <td>1</td>\n",
              "      <td>ram_used</td>\n",
              "      <td>4062</td>\n",
              "    </tr>\n",
              "    <tr>\n",
              "      <th>2</th>\n",
              "      <td>2</td>\n",
              "      <td>ram_used</td>\n",
              "      <td>4057</td>\n",
              "    </tr>\n",
              "    <tr>\n",
              "      <th>3</th>\n",
              "      <td>3</td>\n",
              "      <td>ram_used</td>\n",
              "      <td>4113</td>\n",
              "    </tr>\n",
              "    <tr>\n",
              "      <th>4</th>\n",
              "      <td>4</td>\n",
              "      <td>ram_used</td>\n",
              "      <td>4115</td>\n",
              "    </tr>\n",
              "  </tbody>\n",
              "</table>\n",
              "</div>"
            ],
            "text/plain": [
              "   index      cols  values\n",
              "0      0  ram_used    4051\n",
              "1      1  ram_used    4062\n",
              "2      2  ram_used    4057\n",
              "3      3  ram_used    4113\n",
              "4      4  ram_used    4115"
            ]
          },
          "metadata": {
            "tags": []
          },
          "execution_count": 107
        }
      ]
    },
    {
      "cell_type": "code",
      "metadata": {
        "colab": {
          "base_uri": "https://localhost:8080/",
          "height": 400
        },
        "id": "y3EEaWNOgB_1",
        "outputId": "4887a0f8-fdf6-4077-9f90-f77fd7fe64b5"
      },
      "source": [
        "sns.relplot(\n",
        "    data=data2,\n",
        "    x=\"index\", y=\"values\", hue='cols',\n",
        "    kind=\"line\",\n",
        ")"
      ],
      "execution_count": 110,
      "outputs": [
        {
          "output_type": "execute_result",
          "data": {
            "text/plain": [
              "<seaborn.axisgrid.FacetGrid at 0x7f59707eb550>"
            ]
          },
          "metadata": {
            "tags": []
          },
          "execution_count": 110
        },
        {
          "output_type": "display_data",
          "data": {
            "image/png": "[encoded data removed]",
            "text/plain": [
              "<Figure size 487.475x360 with 1 Axes>"
            ]
          },
          "metadata": {
            "tags": []
          }
        }
      ]
    }
  ]
}